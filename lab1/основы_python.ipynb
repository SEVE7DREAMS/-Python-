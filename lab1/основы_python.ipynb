{
  "cells": [
    {
      "cell_type": "markdown",
      "metadata": {
        "id": "M-DGa20PaHnu"
      },
      "source": [
        "# Задача 1\n",
        "Написать функцию на вход которой подается строка, состоящая из латинских букв.\n",
        "Функция должна вернуть количество гласных букв (a, e, i, o, u) в этой строке. Написать тесты для кода"
      ]
    },
    {
      "cell_type": "code",
      "execution_count": 2,
      "metadata": {
        "id": "XvX8X_JJ6PCb"
      },
      "outputs": [
        {
          "name": "stdout",
          "output_type": "stream",
          "text": [
            "Тесты пройдены.\n"
          ]
        }
      ],
      "source": [
        "def func(text):\n",
        "    result = 0\n",
        "    for i in text:\n",
        "        if i in 'aeiouAEIOU':\n",
        "            result += 1\n",
        "    return result\n",
        "\n",
        "assert(func('hello')) == 2\n",
        "assert(func('aeiou')) == 5\n",
        "assert(func('bbb')) == 0"
      ]
    },
    {
      "cell_type": "markdown",
      "metadata": {
        "id": "t2ClV_Y0bbr6"
      },
      "source": [
        "# Задача 2\n",
        "Написать функцию на вход, которой подается строка. Функция должна вернуть true, если\n",
        "каждый символ в строке встречается только 1 раз, иначе должна вернуть false. Написать тесты для кода"
      ]
    },
    {
      "cell_type": "code",
      "execution_count": 5,
      "metadata": {
        "id": "FppbECao6VIz"
      },
      "outputs": [
        {
          "name": "stdout",
          "output_type": "stream",
          "text": [
            "Тесты пройдены.\n"
          ]
        }
      ],
      "source": [
        "def func(text):\n",
        "    array = []\n",
        "    result = True\n",
        "    for i in text:\n",
        "        if (array.__contains__(i)):\n",
        "            result = False\n",
        "            break\n",
        "        else: \n",
        "            array = i\n",
        "    return result\n",
        "\n",
        "assert(func('aaa')) == False\n",
        "assert(func('ZAX')) == True\n",
        "assert(func('Hello')) == False"
      ]
    },
    {
      "cell_type": "markdown",
      "metadata": {
        "id": "udRiIK1cdt6E"
      },
      "source": [
        "# Задача 3\n",
        "Написать функцию, которая принимает положительное число и возвращает количество\n",
        "бит равных 1 в этом числе. Написать тесты для кода"
      ]
    },
    {
      "cell_type": "code",
      "execution_count": 6,
      "metadata": {
        "id": "6tkfDJRz6dp_"
      },
      "outputs": [
        {
          "name": "stdout",
          "output_type": "stream",
          "text": [
            "Тесты пройдены.\n"
          ]
        }
      ],
      "source": [
        "def func(num):\n",
        "    count = 0\n",
        "    while num:\n",
        "        count += num & 1\n",
        "        num >>= 1\n",
        "    return count\n",
        "\n",
        "assert func(0) == 0\n",
        "assert func(1) == 1\n",
        "assert func(255) == 8\n"
      ]
    },
    {
      "cell_type": "markdown",
      "metadata": {
        "id": "26dDUz-Ae17N"
      },
      "source": [
        "# Задача 4\n",
        "Написать функцию, которая принимает положительное число. Функция должна вернуть то,\n",
        "сколько раз необходимо перемножать цифры числа или результат перемножения, чтобы\n",
        "получилось число состоящее из одной цифры.\n",
        "Например, для входного числа:\n",
        "· 39 функция должна вернуть 3, так как 3*9=27 => 2*7=14 => 1*4=4\n",
        "· 4 функция должна вернуть 0, так как число уже состоит из одной цифры\n",
        "· 999 функция должна вернуть 4, так как 9*9*9=729 => 7*2*9=126 => 1*2*6=12 =>\n",
        "1*2=2. Написать тесты для кода"
      ]
    },
    {
      "cell_type": "code",
      "execution_count": 9,
      "metadata": {
        "id": "BH1A_Mgi6i4G"
      },
      "outputs": [
        {
          "name": "stdout",
          "output_type": "stream",
          "text": [
            "Тесты пройдены.\n"
          ]
        }
      ],
      "source": [
        "def magic(n):\n",
        "    count = 0\n",
        "    while n >= 10:\n",
        "        item = 1\n",
        "        while n > 0:\n",
        "            digit = n % 10\n",
        "            item *= digit\n",
        "            n //= 10\n",
        "        n = item\n",
        "        count += 1\n",
        "    return count\n",
        "\n",
        "assert magic(39) == 3\n",
        "assert magic(4) == 0\n",
        "assert magic(999) == 4\n",
        "assert magic(100) == 1"
      ]
    },
    {
      "cell_type": "markdown",
      "metadata": {
        "id": "0nS-kIa8g8vd"
      },
      "source": [
        "# Задача 5\n",
        "Написать функцию, которая принимает два целочисленных вектора одинаковой длины и\n",
        "возвращает среднеквадратическое отклонение двух векторов. Написать тесты для кода"
      ]
    },
    {
      "cell_type": "code",
      "execution_count": 10,
      "metadata": {
        "id": "8iphx4LM6xbx"
      },
      "outputs": [
        {
          "name": "stdout",
          "output_type": "stream",
          "text": [
            "Тесты пройдены.\n"
          ]
        }
      ],
      "source": [
        "def mse(pred, true):\n",
        "    if len(pred) != len(true):\n",
        "        raise ValueError(\"Ошибка! Вектора должны быть одинаковой длины!\")\n",
        "    \n",
        "    n = len(pred)\n",
        "    diff = sum((item1 - item2) ** 2 for item1, item2 in zip(pred, true))\n",
        "    return (diff / n) ** 0.5\n",
        "\n",
        "assert mse([1, 2, 3], [4, 5, 6]) == 3.0\n",
        "assert mse([4, 5, 6], [7, 8, 9]) == 3.0\n",
        "assert mse([0, 0, 0], [0, 0, 0]) == 0.0\n",
        "assert mse([1, 2, 3], [1, 2, 3]) == 0.0\n"
      ]
    },
    {
      "cell_type": "markdown",
      "metadata": {
        "id": "vpIPKL439zkw"
      },
      "source": [
        "# Задача 6\n",
        "Написать функцию, принимающая целое положительное число. Функция должна вернуть\n",
        "строку вида “(n1**p1)(n2**p2)…(nk**pk)” представляющая разложение числа на простые\n",
        "множители (если pi == 1, то выводить только ni).\n",
        "Например, для числа 86240 функция должна вернуть “(2**5)(5)(7**2)(11)”. Написать тесты для кода"
      ]
    },
    {
      "cell_type": "code",
      "execution_count": 2,
      "metadata": {
        "id": "pFebmcZk94Jw"
      },
      "outputs": [],
      "source": [
        "def func(n: int):\n",
        "    if n <= 0:\n",
        "        raise Exception(\"n должно быть больше нуля\")\n",
        "    array = []\n",
        "    divisor = 2\n",
        "    while n > 1:\n",
        "        count = 0\n",
        "        while n % divisor == 0:\n",
        "            count += 1\n",
        "            n = n // divisor\n",
        "        if count > 0:\n",
        "            array.append((divisor, count) if count > 1 else (divisor,))\n",
        "        divisor += 1\n",
        "        if divisor * divisor > n:\n",
        "            if n > 1:\n",
        "                array.append((n,))\n",
        "            break\n",
        "    return array\n",
        "\n",
        "def factorize(n):\n",
        "    list = func(n)\n",
        "    result = \"\"\n",
        "    for factor in list:\n",
        "        if len(factor) == 1:\n",
        "            result += f\"({factor[0]})\"\n",
        "        else:\n",
        "            result += f\"({factor[0]}**{factor[1]})\"\n",
        "    return result\n",
        "\n",
        "def test_factorize():\n",
        "    assert factorize(86240) == \"(2**5)(5)(7**2)(11)\"\n",
        "\n",
        "test_factorize()"
      ]
    },
    {
      "cell_type": "markdown",
      "metadata": {
        "id": "ps2s0BudX7A2"
      },
      "source": [
        "# Задача 7\n",
        "Написать функцию, принимающая целое число n, задающее количество кубиков. Функция\n",
        "должна определить, можно ли из данного кол-ва кубиков построить пирамиду, то есть\n",
        "можно ли представить число n как 1^2+2^2+3^2+…+k^2. Если можно, то функция должна\n",
        "вернуть k, иначе строку “It is impossible”. Написать тесты для кода"
      ]
    },
    {
      "cell_type": "code",
      "execution_count": 3,
      "metadata": {
        "id": "3YPjEXxhX_YT"
      },
      "outputs": [],
      "source": [
        "def pyramid(n: int):\n",
        "    count = 0\n",
        "    k = 1\n",
        "    while count < n:\n",
        "        count += k**2\n",
        "        if count == n:\n",
        "            return k\n",
        "        k += 1\n",
        "    return \"It is impossible\"\n",
        "\n",
        "def test():\n",
        "    assert pyramid(1) == 1\n",
        "    assert pyramid(12) == \"It is impossible\"\n",
        "\n",
        "test()"
      ]
    },
    {
      "cell_type": "markdown",
      "metadata": {
        "id": "KeKgmIdAQMEJ"
      },
      "source": [
        "# Задача 8\n",
        "Функция принимает на вход положительное число и определяет является ли оно сбалансированным, т.е. сумма цифр до средних равна сумме цифр после. Средними в случае нечетного числа цифр считать одну цифру, в случае четного - две средних. Написать тесты для кода"
      ]
    },
    {
      "cell_type": "code",
      "execution_count": 13,
      "metadata": {
        "id": "gMAAqtqlQrZt"
      },
      "outputs": [
        {
          "name": "stdout",
          "output_type": "stream",
          "text": [
            "Тесты пройдены.\n"
          ]
        }
      ],
      "source": [
        "def balanced(number):\n",
        "    num = str(number)\n",
        "    length = len(num)\n",
        "    \n",
        "    if length % 2 == 0:\n",
        "        mid = length // 2\n",
        "        left = sum(map(int, num[:mid]))\n",
        "        right = sum(map(int, num[mid:]))\n",
        "    else:\n",
        "        mid = length // 2\n",
        "        left = sum(map(int, num[:mid]))\n",
        "        right = sum(map(int, num[mid+1:]))\n",
        "        \n",
        "    return left == right\n",
        "\n",
        "assert balanced(828) == True\n",
        "assert balanced(829) == False\n",
        "assert balanced(4442444) == True\n",
        "assert balanced(123452) == False\n"
      ]
    }
  ],
  "metadata": {
    "colab": {
      "provenance": []
    },
    "kernelspec": {
      "display_name": "Python 3",
      "name": "python3"
    },
    "language_info": {
      "codemirror_mode": {
        "name": "ipython",
        "version": 3
      },
      "file_extension": ".py",
      "mimetype": "text/x-python",
      "name": "python",
      "nbconvert_exporter": "python",
      "pygments_lexer": "ipython3",
      "version": "3.12.2"
    }
  },
  "nbformat": 4,
  "nbformat_minor": 0
}
